{
 "cells": [
  {
   "cell_type": "code",
   "execution_count": 11,
   "id": "b30aec35-b87b-4d4b-ab5d-c1f89c770765",
   "metadata": {},
   "outputs": [
    {
     "data": {
      "text/plain": [
       "dict_keys(['client-id', 'api-key'])"
      ]
     },
     "execution_count": 11,
     "metadata": {},
     "output_type": "execute_result"
    }
   ],
   "source": [
    "import json\n",
    "with open('/Users/kellyji/.secret/yelp_api.json') as f:\n",
    "    login = json.load(f)\n",
    "login.keys()"
   ]
  },
  {
   "cell_type": "code",
   "execution_count": 15,
   "id": "ad22b13e-c05f-4e60-8537-da764383afe2",
   "metadata": {},
   "outputs": [
    {
     "name": "stdout",
     "output_type": "stream",
     "text": [
      "Collecting yelpapi\n",
      "  Downloading yelpapi-2.5.1-py3-none-any.whl (7.4 kB)\n",
      "Requirement already satisfied: requests in /opt/homebrew/Caskroom/miniforge/base/envs/dojo-env/lib/python3.10/site-packages (from yelpapi) (2.29.0)\n",
      "Requirement already satisfied: urllib3<1.27,>=1.21.1 in /opt/homebrew/Caskroom/miniforge/base/envs/dojo-env/lib/python3.10/site-packages (from requests->yelpapi) (1.26.15)\n",
      "Requirement already satisfied: charset-normalizer<4,>=2 in /opt/homebrew/Caskroom/miniforge/base/envs/dojo-env/lib/python3.10/site-packages (from requests->yelpapi) (2.0.4)\n",
      "Requirement already satisfied: idna<4,>=2.5 in /opt/homebrew/Caskroom/miniforge/base/envs/dojo-env/lib/python3.10/site-packages (from requests->yelpapi) (3.4)\n",
      "Requirement already satisfied: certifi>=2017.4.17 in /opt/homebrew/Caskroom/miniforge/base/envs/dojo-env/lib/python3.10/site-packages (from requests->yelpapi) (2023.5.7)\n",
      "Installing collected packages: yelpapi\n",
      "Successfully installed yelpapi-2.5.1\n"
     ]
    }
   ],
   "source": [
    "!pip install yelpapi"
   ]
  },
  {
   "cell_type": "code",
   "execution_count": 16,
   "id": "a0f3caed-4824-40ec-a79c-2d42b2413d79",
   "metadata": {},
   "outputs": [
    {
     "data": {
      "text/plain": [
       "<yelpapi.yelpapi.YelpAPI at 0x10417fb50>"
      ]
     },
     "execution_count": 16,
     "metadata": {},
     "output_type": "execute_result"
    }
   ],
   "source": [
    "from yelpapi import YelpAPI\n",
    "yelp_api = YelpAPI(login['api-key'], timeout_s=5.0)\n",
    "yelp_api"
   ]
  },
  {
   "cell_type": "code",
   "execution_count": 17,
   "id": "a1a197e2-ad35-4195-8a41-57cbb668d741",
   "metadata": {},
   "outputs": [
    {
     "name": "stdout",
     "output_type": "stream",
     "text": [
      "<class 'dict'>\n"
     ]
    },
    {
     "data": {
      "text/plain": [
       "dict_keys(['businesses', 'total', 'region'])"
      ]
     },
     "execution_count": 17,
     "metadata": {},
     "output_type": "execute_result"
    }
   ],
   "source": [
    "# Quick Test Query\n",
    "results = yelp_api.search_query(location='Baltimore, MD',\n",
    "                                       term='Crab Cake')\n",
    "print(type(results))\n",
    "results.keys()\n",
    "\n"
   ]
  }
 ],
 "metadata": {
  "kernelspec": {
   "display_name": "Python (dojo-env)",
   "language": "python",
   "name": "dojo-env"
  },
  "language_info": {
   "codemirror_mode": {
    "name": "ipython",
    "version": 3
   },
   "file_extension": ".py",
   "mimetype": "text/x-python",
   "name": "python",
   "nbconvert_exporter": "python",
   "pygments_lexer": "ipython3",
   "version": "3.10.10"
  },
  "widgets": {
   "application/vnd.jupyter.widget-state+json": {
    "state": {},
    "version_major": 2,
    "version_minor": 0
   }
  }
 },
 "nbformat": 4,
 "nbformat_minor": 5
}
