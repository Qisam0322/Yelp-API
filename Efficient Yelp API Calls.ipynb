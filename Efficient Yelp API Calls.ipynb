{
 "cells": [
  {
   "cell_type": "markdown",
   "id": "893d026e-d240-4f3b-8ed4-1c0bba48e065",
   "metadata": {},
   "source": [
    "# Efficient Yelp API Calls"
   ]
  },
  {
   "cell_type": "code",
   "execution_count": 3,
   "id": "5233d377-d041-4d44-b342-eaf6740bac87",
   "metadata": {},
   "outputs": [
    {
     "name": "stdout",
     "output_type": "stream",
     "text": [
      "Requirement already satisfied: tqdm in /opt/homebrew/Caskroom/miniforge/base/envs/dojo-env/lib/python3.10/site-packages (4.65.0)\n",
      "Requirement already satisfied: yelpapi in /opt/homebrew/Caskroom/miniforge/base/envs/dojo-env/lib/python3.10/site-packages (2.5.1)\n",
      "Requirement already satisfied: requests in /opt/homebrew/Caskroom/miniforge/base/envs/dojo-env/lib/python3.10/site-packages (from yelpapi) (2.29.0)\n",
      "Requirement already satisfied: certifi>=2017.4.17 in /opt/homebrew/Caskroom/miniforge/base/envs/dojo-env/lib/python3.10/site-packages (from requests->yelpapi) (2023.5.7)\n",
      "Requirement already satisfied: idna<4,>=2.5 in /opt/homebrew/Caskroom/miniforge/base/envs/dojo-env/lib/python3.10/site-packages (from requests->yelpapi) (3.4)\n",
      "Requirement already satisfied: urllib3<1.27,>=1.21.1 in /opt/homebrew/Caskroom/miniforge/base/envs/dojo-env/lib/python3.10/site-packages (from requests->yelpapi) (1.26.15)\n",
      "Requirement already satisfied: charset-normalizer<4,>=2 in /opt/homebrew/Caskroom/miniforge/base/envs/dojo-env/lib/python3.10/site-packages (from requests->yelpapi) (2.0.4)\n"
     ]
    }
   ],
   "source": [
    "#install \n",
    "!pip install tqdm\n",
    "!pip install yelpapi"
   ]
  },
  {
   "cell_type": "code",
   "execution_count": 4,
   "id": "49facba6-ce39-446b-b4dc-5e568fd5e4cd",
   "metadata": {},
   "outputs": [],
   "source": [
    "import numpy as np\n",
    "import pandas as pd\n",
    "import matplotlib.pyplot as plt\n",
    "import seaborn as sns\n",
    "import os, json, math, time\n",
    "from yelpapi import YelpAPI\n",
    "from tqdm.notebook import tqdm_notebook"
   ]
  },
  {
   "cell_type": "code",
   "execution_count": 7,
   "id": "0d5f120d-585a-484a-a159-bcb244f8ca7c",
   "metadata": {},
   "outputs": [
    {
     "data": {
      "text/plain": [
       "<yelpapi.yelpapi.YelpAPI at 0x1083d4dc0>"
      ]
     },
     "execution_count": 7,
     "metadata": {},
     "output_type": "execute_result"
    }
   ],
   "source": [
    "# Credentials and Accessing the API\n",
    "with open('/Users/kellyji/.secret/yelp_api.json') as f:\n",
    "    login = json.load(f)\n",
    "yelp_api = YelpAPI(login['api-key'],timeout_s=5.0)\n",
    "yelp_api"
   ]
  },
  {
   "cell_type": "markdown",
   "id": "8531387e-6b3c-4097-97d1-afd85c0caaf8",
   "metadata": {},
   "source": [
    "- API calls to search for sushi restaurants in the Seattle area"
   ]
  },
  {
   "cell_type": "code",
   "execution_count": 8,
   "id": "03f982e0-50b1-453d-945d-ce624e1317e8",
   "metadata": {},
   "outputs": [],
   "source": [
    "LOCATION='Seattle'\n",
    "TERM='Sushi'"
   ]
  },
  {
   "cell_type": "code",
   "execution_count": 10,
   "id": "2d583784-fefd-4121-a0ac-d96fc185bd39",
   "metadata": {},
   "outputs": [
    {
     "data": {
      "text/plain": [
       "'/Users/kellyji/Documents/DataEnrichment/Yelp-API-/result_in_progress_SEA_sushi.json'"
      ]
     },
     "execution_count": 10,
     "metadata": {},
     "output_type": "execute_result"
    }
   ],
   "source": [
    "JSON_FILE='/Users/kellyji/Documents/DataEnrichment/Yelp-API-/result_in_progress_SEA_sushi.json'\n",
    "JSON_FILE"
   ]
  },
  {
   "cell_type": "code",
   "execution_count": 13,
   "id": "60cdefd8-c9f0-4584-9ae8-2ab95db061b9",
   "metadata": {},
   "outputs": [
    {
     "data": {
      "text/plain": [
       "False"
      ]
     },
     "execution_count": 13,
     "metadata": {},
     "output_type": "execute_result"
    }
   ],
   "source": [
    "os.path.isfile(JSON_FILE)"
   ]
  },
  {
   "cell_type": "code",
   "execution_count": 15,
   "id": "c30fb572-0fb3-47d7-81c2-9bbad18ef72c",
   "metadata": {},
   "outputs": [],
   "source": [
    "## Import custom function to create json file\n",
    "def create_json_file(JSON_FILE,  delete_if_exists=False):\n",
    "    \n",
    "    file_exists = os.path.isfile(JSON_FILE)\n",
    "    \n",
    "    if file_exists == True:\n",
    "        \n",
    "        if delete_if_exists==True:\n",
    "            \n",
    "            print(f\"[!] {JSON_FILE} already exists. Deleting previous file...\")\n",
    "            os.remove(JSON_FILE)\n",
    "            create_json_file(JSON_FILE,delete_if_exists=False)\n",
    "        else:\n",
    "            print(f\"[i] {JSON_FILE} already exists.\")            \n",
    "            \n",
    "            \n",
    "    else:\n",
    "        \n",
    "        print(f\"[i] {JSON_FILE} not found. Saving empty list to new file.\")\n",
    "        \n",
    "        folder = os.path.dirname(JSON_FILE)\n",
    "        \n",
    "        if len(folder)>0:\n",
    "            os.makedirs(folder,exist_ok=True)\n",
    "        with open(JSON_FILE,'w') as f:\n",
    "            json.dump([],f)  "
   ]
  },
  {
   "cell_type": "code",
   "execution_count": 16,
   "id": "147e1ef8-fc7a-49c3-9d28-aa29abafe133",
   "metadata": {},
   "outputs": [
    {
     "name": "stdout",
     "output_type": "stream",
     "text": [
      "[i] /Users/kellyji/Documents/DataEnrichment/Yelp-API-/result_in_progress_SEA_sushi.json not found. Saving empty list to new file.\n",
      "- 0 previous results found.\n"
     ]
    },
    {
     "data": {
      "text/plain": [
       "46"
      ]
     },
     "execution_count": 16,
     "metadata": {},
     "output_type": "execute_result"
    }
   ],
   "source": [
    "## Create a new empty json file (exist the previous if it exists)\n",
    "create_json_file(JSON_FILE, delete_if_exists=True)\n",
    "## Load previous results and use len of results for offset\n",
    "with open(JSON_FILE,'r') as f:\n",
    "    previous_results = json.load(f)\n",
    "    \n",
    "## set offset based on previous results\n",
    "n_results = len(previous_results)\n",
    "print(f'- {n_results} previous results found.')\n",
    "# use our yelp_api variable's search_query method to perform our API call\n",
    "results = yelp_api.search_query(location=LOCATION,\n",
    "                                term=TERM,\n",
    "                               offset=n_results)\n",
    "## How many results total?\n",
    "total_results = results['total']\n",
    "## How many did we get the details for?\n",
    "results_per_page = len(results['businesses'])\n",
    "# Use math.ceil to round up for the total number of pages of results.\n",
    "n_pages = math.ceil((results['total']-n_results)/ results_per_page)\n",
    "n_pages"
   ]
  },
  {
   "cell_type": "code",
   "execution_count": 17,
   "id": "912c37bb-fc9c-4d4d-b782-69f33fab5144",
   "metadata": {},
   "outputs": [
    {
     "data": {
      "application/vnd.jupyter.widget-view+json": {
       "model_id": "27fb85e0e9774f4687810f2b640bf472",
       "version_major": 2,
       "version_minor": 0
      },
      "text/plain": [
       "  0%|          | 0/46 [00:00<?, ?it/s]"
      ]
     },
     "metadata": {},
     "output_type": "display_data"
    }
   ],
   "source": [
    "for i in tqdm_notebook( range(1,n_pages+1)):\n",
    "    \n",
    "    ## Read in results in progress file and check the length\n",
    "    with open(JSON_FILE, 'r') as f:\n",
    "        previous_results = json.load(f)\n",
    "    ## save number of results for to use as offset\n",
    "    n_results = len(previous_results)\n",
    "    \n",
    "    if (n_results + results_per_page) > 1000:\n",
    "        print('Exceeded 1000 api calls. Stopping loop.')\n",
    "        break\n",
    "    \n",
    "    ## use n_results as the OFFSET \n",
    "    results = yelp_api.search_query(location=LOCATION,\n",
    "                                    term=TERM, \n",
    "                                    offset=n_results)\n",
    "    \n",
    "    \n",
    "    \n",
    "    ## append new results and save to file\n",
    "    previous_results.extend(results['businesses'])\n",
    "    \n",
    "    # display(previous_results)\n",
    "    with open(JSON_FILE,'w') as f:\n",
    "        json.dump(previous_results,f)\n",
    "    \n",
    "    time.sleep(.2)"
   ]
  },
  {
   "cell_type": "code",
   "execution_count": 18,
   "id": "09f92ace-9bfb-4aaf-b6fb-fcf3b9e4baac",
   "metadata": {},
   "outputs": [
    {
     "data": {
      "text/html": [
       "<div>\n",
       "<style scoped>\n",
       "    .dataframe tbody tr th:only-of-type {\n",
       "        vertical-align: middle;\n",
       "    }\n",
       "\n",
       "    .dataframe tbody tr th {\n",
       "        vertical-align: top;\n",
       "    }\n",
       "\n",
       "    .dataframe thead th {\n",
       "        text-align: right;\n",
       "    }\n",
       "</style>\n",
       "<table border=\"1\" class=\"dataframe\">\n",
       "  <thead>\n",
       "    <tr style=\"text-align: right;\">\n",
       "      <th></th>\n",
       "      <th>id</th>\n",
       "      <th>alias</th>\n",
       "      <th>name</th>\n",
       "      <th>image_url</th>\n",
       "      <th>is_closed</th>\n",
       "      <th>url</th>\n",
       "      <th>review_count</th>\n",
       "      <th>categories</th>\n",
       "      <th>rating</th>\n",
       "      <th>coordinates</th>\n",
       "      <th>transactions</th>\n",
       "      <th>price</th>\n",
       "      <th>location</th>\n",
       "      <th>phone</th>\n",
       "      <th>display_phone</th>\n",
       "      <th>distance</th>\n",
       "    </tr>\n",
       "  </thead>\n",
       "  <tbody>\n",
       "    <tr>\n",
       "      <th>0</th>\n",
       "      <td>YSQiqH7RIWORk_Qp-A4SOg</td>\n",
       "      <td>shiros-seattle</td>\n",
       "      <td>Shiro's</td>\n",
       "      <td>https://s3-media4.fl.yelpcdn.com/bphoto/hcw9Ea...</td>\n",
       "      <td>False</td>\n",
       "      <td>https://www.yelp.com/biz/shiros-seattle?adjust...</td>\n",
       "      <td>2608</td>\n",
       "      <td>[{'alias': 'sushi', 'title': 'Sushi Bars'}, {'...</td>\n",
       "      <td>4.5</td>\n",
       "      <td>{'latitude': 47.6147782162181, 'longitude': -1...</td>\n",
       "      <td>[pickup, delivery]</td>\n",
       "      <td>$$$$</td>\n",
       "      <td>{'address1': '2401 2nd Ave', 'address2': '', '...</td>\n",
       "      <td>+12064439844</td>\n",
       "      <td>(206) 443-9844</td>\n",
       "      <td>1477.968059</td>\n",
       "    </tr>\n",
       "    <tr>\n",
       "      <th>1</th>\n",
       "      <td>3hxncVCRPfmKLOyiXKXbDw</td>\n",
       "      <td>sushi-kashiba-seattle</td>\n",
       "      <td>Sushi Kashiba</td>\n",
       "      <td>https://s3-media2.fl.yelpcdn.com/bphoto/kDUe-m...</td>\n",
       "      <td>False</td>\n",
       "      <td>https://www.yelp.com/biz/sushi-kashiba-seattle...</td>\n",
       "      <td>1403</td>\n",
       "      <td>[{'alias': 'japanese', 'title': 'Japanese'}, {...</td>\n",
       "      <td>4.5</td>\n",
       "      <td>{'latitude': 47.6099251, 'longitude': -122.341...</td>\n",
       "      <td>[delivery]</td>\n",
       "      <td>$$$$</td>\n",
       "      <td>{'address1': '86 Pine St', 'address2': 'Ste 1'...</td>\n",
       "      <td>+12064418844</td>\n",
       "      <td>(206) 441-8844</td>\n",
       "      <td>1781.219913</td>\n",
       "    </tr>\n",
       "    <tr>\n",
       "      <th>2</th>\n",
       "      <td>vs5dhED5Yf8kqPp06OD2QQ</td>\n",
       "      <td>momiji-seattle</td>\n",
       "      <td>Momiji</td>\n",
       "      <td>https://s3-media1.fl.yelpcdn.com/bphoto/oQgt6B...</td>\n",
       "      <td>False</td>\n",
       "      <td>https://www.yelp.com/biz/momiji-seattle?adjust...</td>\n",
       "      <td>1826</td>\n",
       "      <td>[{'alias': 'japanese', 'title': 'Japanese'}, {...</td>\n",
       "      <td>4.0</td>\n",
       "      <td>{'latitude': 47.61482, 'longitude': -122.31657}</td>\n",
       "      <td>[delivery]</td>\n",
       "      <td>$$</td>\n",
       "      <td>{'address1': '1522 12th Ave', 'address2': '', ...</td>\n",
       "      <td>+12064574068</td>\n",
       "      <td>(206) 457-4068</td>\n",
       "      <td>1847.275584</td>\n",
       "    </tr>\n",
       "    <tr>\n",
       "      <th>3</th>\n",
       "      <td>B62PvT0inodUg6W2VIcGng</td>\n",
       "      <td>the-ivy-seattle</td>\n",
       "      <td>The Ivy</td>\n",
       "      <td>https://s3-media2.fl.yelpcdn.com/bphoto/P9Z2E3...</td>\n",
       "      <td>False</td>\n",
       "      <td>https://www.yelp.com/biz/the-ivy-seattle?adjus...</td>\n",
       "      <td>15</td>\n",
       "      <td>[{'alias': 'asianfusion', 'title': 'Asian Fusi...</td>\n",
       "      <td>5.0</td>\n",
       "      <td>{'latitude': 47.6692296, 'longitude': -122.378...</td>\n",
       "      <td>[]</td>\n",
       "      <td>NaN</td>\n",
       "      <td>{'address1': '5512 17th Ave NW', 'address2': '...</td>\n",
       "      <td></td>\n",
       "      <td></td>\n",
       "      <td>5845.331678</td>\n",
       "    </tr>\n",
       "    <tr>\n",
       "      <th>4</th>\n",
       "      <td>1nHn9R9zntWHfhgICWtL6g</td>\n",
       "      <td>sushi-nori-seattle</td>\n",
       "      <td>Sushi Nori</td>\n",
       "      <td>https://s3-media3.fl.yelpcdn.com/bphoto/nZ5ZTs...</td>\n",
       "      <td>False</td>\n",
       "      <td>https://www.yelp.com/biz/sushi-nori-seattle?ad...</td>\n",
       "      <td>153</td>\n",
       "      <td>[{'alias': 'sushi', 'title': 'Sushi Bars'}, {'...</td>\n",
       "      <td>4.0</td>\n",
       "      <td>{'latitude': 47.64177001451144, 'longitude': -...</td>\n",
       "      <td>[]</td>\n",
       "      <td>NaN</td>\n",
       "      <td>{'address1': '2366 Eastlake Ave E', 'address2'...</td>\n",
       "      <td>+12062574213</td>\n",
       "      <td>(206) 257-4213</td>\n",
       "      <td>1962.128929</td>\n",
       "    </tr>\n",
       "  </tbody>\n",
       "</table>\n",
       "</div>"
      ],
      "text/plain": [
       "                       id                  alias           name  \\\n",
       "0  YSQiqH7RIWORk_Qp-A4SOg         shiros-seattle        Shiro's   \n",
       "1  3hxncVCRPfmKLOyiXKXbDw  sushi-kashiba-seattle  Sushi Kashiba   \n",
       "2  vs5dhED5Yf8kqPp06OD2QQ         momiji-seattle         Momiji   \n",
       "3  B62PvT0inodUg6W2VIcGng        the-ivy-seattle        The Ivy   \n",
       "4  1nHn9R9zntWHfhgICWtL6g     sushi-nori-seattle     Sushi Nori   \n",
       "\n",
       "                                           image_url  is_closed  \\\n",
       "0  https://s3-media4.fl.yelpcdn.com/bphoto/hcw9Ea...      False   \n",
       "1  https://s3-media2.fl.yelpcdn.com/bphoto/kDUe-m...      False   \n",
       "2  https://s3-media1.fl.yelpcdn.com/bphoto/oQgt6B...      False   \n",
       "3  https://s3-media2.fl.yelpcdn.com/bphoto/P9Z2E3...      False   \n",
       "4  https://s3-media3.fl.yelpcdn.com/bphoto/nZ5ZTs...      False   \n",
       "\n",
       "                                                 url  review_count  \\\n",
       "0  https://www.yelp.com/biz/shiros-seattle?adjust...          2608   \n",
       "1  https://www.yelp.com/biz/sushi-kashiba-seattle...          1403   \n",
       "2  https://www.yelp.com/biz/momiji-seattle?adjust...          1826   \n",
       "3  https://www.yelp.com/biz/the-ivy-seattle?adjus...            15   \n",
       "4  https://www.yelp.com/biz/sushi-nori-seattle?ad...           153   \n",
       "\n",
       "                                          categories  rating  \\\n",
       "0  [{'alias': 'sushi', 'title': 'Sushi Bars'}, {'...     4.5   \n",
       "1  [{'alias': 'japanese', 'title': 'Japanese'}, {...     4.5   \n",
       "2  [{'alias': 'japanese', 'title': 'Japanese'}, {...     4.0   \n",
       "3  [{'alias': 'asianfusion', 'title': 'Asian Fusi...     5.0   \n",
       "4  [{'alias': 'sushi', 'title': 'Sushi Bars'}, {'...     4.0   \n",
       "\n",
       "                                         coordinates        transactions  \\\n",
       "0  {'latitude': 47.6147782162181, 'longitude': -1...  [pickup, delivery]   \n",
       "1  {'latitude': 47.6099251, 'longitude': -122.341...          [delivery]   \n",
       "2    {'latitude': 47.61482, 'longitude': -122.31657}          [delivery]   \n",
       "3  {'latitude': 47.6692296, 'longitude': -122.378...                  []   \n",
       "4  {'latitude': 47.64177001451144, 'longitude': -...                  []   \n",
       "\n",
       "  price                                           location         phone  \\\n",
       "0  $$$$  {'address1': '2401 2nd Ave', 'address2': '', '...  +12064439844   \n",
       "1  $$$$  {'address1': '86 Pine St', 'address2': 'Ste 1'...  +12064418844   \n",
       "2    $$  {'address1': '1522 12th Ave', 'address2': '', ...  +12064574068   \n",
       "3   NaN  {'address1': '5512 17th Ave NW', 'address2': '...                 \n",
       "4   NaN  {'address1': '2366 Eastlake Ave E', 'address2'...  +12062574213   \n",
       "\n",
       "    display_phone     distance  \n",
       "0  (206) 443-9844  1477.968059  \n",
       "1  (206) 441-8844  1781.219913  \n",
       "2  (206) 457-4068  1847.275584  \n",
       "3                  5845.331678  \n",
       "4  (206) 257-4213  1962.128929  "
      ]
     },
     "metadata": {},
     "output_type": "display_data"
    },
    {
     "data": {
      "text/html": [
       "<div>\n",
       "<style scoped>\n",
       "    .dataframe tbody tr th:only-of-type {\n",
       "        vertical-align: middle;\n",
       "    }\n",
       "\n",
       "    .dataframe tbody tr th {\n",
       "        vertical-align: top;\n",
       "    }\n",
       "\n",
       "    .dataframe thead th {\n",
       "        text-align: right;\n",
       "    }\n",
       "</style>\n",
       "<table border=\"1\" class=\"dataframe\">\n",
       "  <thead>\n",
       "    <tr style=\"text-align: right;\">\n",
       "      <th></th>\n",
       "      <th>id</th>\n",
       "      <th>alias</th>\n",
       "      <th>name</th>\n",
       "      <th>image_url</th>\n",
       "      <th>is_closed</th>\n",
       "      <th>url</th>\n",
       "      <th>review_count</th>\n",
       "      <th>categories</th>\n",
       "      <th>rating</th>\n",
       "      <th>coordinates</th>\n",
       "      <th>transactions</th>\n",
       "      <th>price</th>\n",
       "      <th>location</th>\n",
       "      <th>phone</th>\n",
       "      <th>display_phone</th>\n",
       "      <th>distance</th>\n",
       "    </tr>\n",
       "  </thead>\n",
       "  <tbody>\n",
       "    <tr>\n",
       "      <th>907</th>\n",
       "      <td>mvPyiJwXjcpcZtQgiIIRZA</td>\n",
       "      <td>qfc-bothell-6</td>\n",
       "      <td>QFC</td>\n",
       "      <td>https://s3-media2.fl.yelpcdn.com/bphoto/7ZeT9a...</td>\n",
       "      <td>False</td>\n",
       "      <td>https://www.yelp.com/biz/qfc-bothell-6?adjust_...</td>\n",
       "      <td>41</td>\n",
       "      <td>[{'alias': 'grocery', 'title': 'Grocery'}, {'a...</td>\n",
       "      <td>3.0</td>\n",
       "      <td>{'latitude': 47.76518, 'longitude': -122.21164}</td>\n",
       "      <td>[]</td>\n",
       "      <td>$</td>\n",
       "      <td>{'address1': '18921 Bothell Way NE', 'address2...</td>\n",
       "      <td>+14254857548</td>\n",
       "      <td>(425) 485-7548</td>\n",
       "      <td>18083.382518</td>\n",
       "    </tr>\n",
       "    <tr>\n",
       "      <th>908</th>\n",
       "      <td>xTRwvTxZHWVUcegd6rcbzg</td>\n",
       "      <td>safeway-renton</td>\n",
       "      <td>Safeway</td>\n",
       "      <td>https://s3-media2.fl.yelpcdn.com/bphoto/09emA7...</td>\n",
       "      <td>False</td>\n",
       "      <td>https://www.yelp.com/biz/safeway-renton?adjust...</td>\n",
       "      <td>92</td>\n",
       "      <td>[{'alias': 'grocery', 'title': 'Grocery'}]</td>\n",
       "      <td>2.0</td>\n",
       "      <td>{'latitude': 47.4802287, 'longitude': -122.214...</td>\n",
       "      <td>[]</td>\n",
       "      <td>$$</td>\n",
       "      <td>{'address1': '200 S 3rd St', 'address2': '', '...</td>\n",
       "      <td>+14252554151</td>\n",
       "      <td>(425) 255-4151</td>\n",
       "      <td>18527.952253</td>\n",
       "    </tr>\n",
       "    <tr>\n",
       "      <th>909</th>\n",
       "      <td>HYmxD654rewlYLxYP0_TsQ</td>\n",
       "      <td>fred-meyer-bothell</td>\n",
       "      <td>Fred Meyer</td>\n",
       "      <td>https://s3-media3.fl.yelpcdn.com/bphoto/xgELvS...</td>\n",
       "      <td>False</td>\n",
       "      <td>https://www.yelp.com/biz/fred-meyer-bothell?ad...</td>\n",
       "      <td>85</td>\n",
       "      <td>[{'alias': 'grocery', 'title': 'Grocery'}, {'a...</td>\n",
       "      <td>3.0</td>\n",
       "      <td>{'latitude': 47.807325, 'longitude': -122.205957}</td>\n",
       "      <td>[]</td>\n",
       "      <td>$$</td>\n",
       "      <td>{'address1': '21045 Bothell Everett Hwy', 'add...</td>\n",
       "      <td>+14253987000</td>\n",
       "      <td>(425) 398-7000</td>\n",
       "      <td>22429.189015</td>\n",
       "    </tr>\n",
       "    <tr>\n",
       "      <th>910</th>\n",
       "      <td>xDmeu1Am5zz2oE3Y-ZHHmA</td>\n",
       "      <td>the-cheesecake-factory-alderwood-mall-lynnwood</td>\n",
       "      <td>The Cheesecake Factory  Alderwood Mall</td>\n",
       "      <td>https://s3-media2.fl.yelpcdn.com/bphoto/L7eHNL...</td>\n",
       "      <td>False</td>\n",
       "      <td>https://www.yelp.com/biz/the-cheesecake-factor...</td>\n",
       "      <td>656</td>\n",
       "      <td>[{'alias': 'desserts', 'title': 'Desserts'}, {...</td>\n",
       "      <td>2.5</td>\n",
       "      <td>{'latitude': 47.8276689, 'longitude': -122.274...</td>\n",
       "      <td>[]</td>\n",
       "      <td>$$</td>\n",
       "      <td>{'address1': '3000 184th St SW', 'address2': '...</td>\n",
       "      <td>+14254121376</td>\n",
       "      <td>(425) 412-1376</td>\n",
       "      <td>22952.787080</td>\n",
       "    </tr>\n",
       "    <tr>\n",
       "      <th>911</th>\n",
       "      <td>tj9ycgSpDIxJfp80asdaNg</td>\n",
       "      <td>qfc-mukilteo-2</td>\n",
       "      <td>QFC</td>\n",
       "      <td>https://s3-media3.fl.yelpcdn.com/bphoto/As0SmS...</td>\n",
       "      <td>False</td>\n",
       "      <td>https://www.yelp.com/biz/qfc-mukilteo-2?adjust...</td>\n",
       "      <td>62</td>\n",
       "      <td>[{'alias': 'grocery', 'title': 'Grocery'}]</td>\n",
       "      <td>2.5</td>\n",
       "      <td>{'latitude': 47.89122038820605, 'longitude': -...</td>\n",
       "      <td>[]</td>\n",
       "      <td>$$</td>\n",
       "      <td>{'address1': '11700 Mukilteo Speedway', 'addre...</td>\n",
       "      <td>+14252906166</td>\n",
       "      <td>(425) 290-6166</td>\n",
       "      <td>29772.327571</td>\n",
       "    </tr>\n",
       "  </tbody>\n",
       "</table>\n",
       "</div>"
      ],
      "text/plain": [
       "                         id                                           alias  \\\n",
       "907  mvPyiJwXjcpcZtQgiIIRZA                                   qfc-bothell-6   \n",
       "908  xTRwvTxZHWVUcegd6rcbzg                                  safeway-renton   \n",
       "909  HYmxD654rewlYLxYP0_TsQ                              fred-meyer-bothell   \n",
       "910  xDmeu1Am5zz2oE3Y-ZHHmA  the-cheesecake-factory-alderwood-mall-lynnwood   \n",
       "911  tj9ycgSpDIxJfp80asdaNg                                  qfc-mukilteo-2   \n",
       "\n",
       "                                       name  \\\n",
       "907                                     QFC   \n",
       "908                                 Safeway   \n",
       "909                              Fred Meyer   \n",
       "910  The Cheesecake Factory  Alderwood Mall   \n",
       "911                                     QFC   \n",
       "\n",
       "                                             image_url  is_closed  \\\n",
       "907  https://s3-media2.fl.yelpcdn.com/bphoto/7ZeT9a...      False   \n",
       "908  https://s3-media2.fl.yelpcdn.com/bphoto/09emA7...      False   \n",
       "909  https://s3-media3.fl.yelpcdn.com/bphoto/xgELvS...      False   \n",
       "910  https://s3-media2.fl.yelpcdn.com/bphoto/L7eHNL...      False   \n",
       "911  https://s3-media3.fl.yelpcdn.com/bphoto/As0SmS...      False   \n",
       "\n",
       "                                                   url  review_count  \\\n",
       "907  https://www.yelp.com/biz/qfc-bothell-6?adjust_...            41   \n",
       "908  https://www.yelp.com/biz/safeway-renton?adjust...            92   \n",
       "909  https://www.yelp.com/biz/fred-meyer-bothell?ad...            85   \n",
       "910  https://www.yelp.com/biz/the-cheesecake-factor...           656   \n",
       "911  https://www.yelp.com/biz/qfc-mukilteo-2?adjust...            62   \n",
       "\n",
       "                                            categories  rating  \\\n",
       "907  [{'alias': 'grocery', 'title': 'Grocery'}, {'a...     3.0   \n",
       "908         [{'alias': 'grocery', 'title': 'Grocery'}]     2.0   \n",
       "909  [{'alias': 'grocery', 'title': 'Grocery'}, {'a...     3.0   \n",
       "910  [{'alias': 'desserts', 'title': 'Desserts'}, {...     2.5   \n",
       "911         [{'alias': 'grocery', 'title': 'Grocery'}]     2.5   \n",
       "\n",
       "                                           coordinates transactions price  \\\n",
       "907    {'latitude': 47.76518, 'longitude': -122.21164}           []     $   \n",
       "908  {'latitude': 47.4802287, 'longitude': -122.214...           []    $$   \n",
       "909  {'latitude': 47.807325, 'longitude': -122.205957}           []    $$   \n",
       "910  {'latitude': 47.8276689, 'longitude': -122.274...           []    $$   \n",
       "911  {'latitude': 47.89122038820605, 'longitude': -...           []    $$   \n",
       "\n",
       "                                              location         phone  \\\n",
       "907  {'address1': '18921 Bothell Way NE', 'address2...  +14254857548   \n",
       "908  {'address1': '200 S 3rd St', 'address2': '', '...  +14252554151   \n",
       "909  {'address1': '21045 Bothell Everett Hwy', 'add...  +14253987000   \n",
       "910  {'address1': '3000 184th St SW', 'address2': '...  +14254121376   \n",
       "911  {'address1': '11700 Mukilteo Speedway', 'addre...  +14252906166   \n",
       "\n",
       "      display_phone      distance  \n",
       "907  (425) 485-7548  18083.382518  \n",
       "908  (425) 255-4151  18527.952253  \n",
       "909  (425) 398-7000  22429.189015  \n",
       "910  (425) 412-1376  22952.787080  \n",
       "911  (425) 290-6166  29772.327571  "
      ]
     },
     "metadata": {},
     "output_type": "display_data"
    }
   ],
   "source": [
    "final_df = pd.read_json(JSON_FILE)\n",
    "display(final_df.head(), final_df.tail())"
   ]
  },
  {
   "cell_type": "code",
   "execution_count": 19,
   "id": "912cd302-e12e-4901-afdf-525bbca5a763",
   "metadata": {},
   "outputs": [
    {
     "data": {
      "text/plain": [
       "0"
      ]
     },
     "execution_count": 19,
     "metadata": {},
     "output_type": "execute_result"
    }
   ],
   "source": [
    "final_df.duplicated(subset='id').sum()"
   ]
  },
  {
   "cell_type": "code",
   "execution_count": 20,
   "id": "18e944b9-a74a-43f7-b5fd-5581a97c6449",
   "metadata": {},
   "outputs": [],
   "source": [
    "# save the final results to a compressed csv\n",
    "final_df.to_csv('/Users/kellyji/Documents/DataEnrichment/Yelp-API-/misc files/final_result_SEA_sushi.csv.gz', compression='gzip',index=False)"
   ]
  }
 ],
 "metadata": {
  "kernelspec": {
   "display_name": "Python (dojo-env)",
   "language": "python",
   "name": "dojo-env"
  },
  "language_info": {
   "codemirror_mode": {
    "name": "ipython",
    "version": 3
   },
   "file_extension": ".py",
   "mimetype": "text/x-python",
   "name": "python",
   "nbconvert_exporter": "python",
   "pygments_lexer": "ipython3",
   "version": "3.10.10"
  },
  "widgets": {
   "application/vnd.jupyter.widget-state+json": {
    "state": {
     "2580a9dda59c4666bd0f6634879c2acc": {
      "model_module": "@jupyter-widgets/controls",
      "model_module_version": "2.0.0",
      "model_name": "ProgressStyleModel",
      "state": {
       "description_width": ""
      }
     },
     "27fb85e0e9774f4687810f2b640bf472": {
      "model_module": "@jupyter-widgets/controls",
      "model_module_version": "2.0.0",
      "model_name": "HBoxModel",
      "state": {
       "children": [
        "IPY_MODEL_2aeadbc15bd74754aa852682ce50dc47",
        "IPY_MODEL_7155c531cbfb435399fc425a53560322",
        "IPY_MODEL_77b9eae4f5aa49f8b3d07ab22e39fcdb"
       ],
       "layout": "IPY_MODEL_4acabc3aa64446ae83809a8f589ad21c"
      }
     },
     "2aeadbc15bd74754aa852682ce50dc47": {
      "model_module": "@jupyter-widgets/controls",
      "model_module_version": "2.0.0",
      "model_name": "HTMLModel",
      "state": {
       "layout": "IPY_MODEL_d6ed09fd7c994bcfa66d2301c571447a",
       "style": "IPY_MODEL_af4e21dc76024c47babe6d189a213078",
       "value": "100%"
      }
     },
     "4acabc3aa64446ae83809a8f589ad21c": {
      "model_module": "@jupyter-widgets/base",
      "model_module_version": "2.0.0",
      "model_name": "LayoutModel",
      "state": {}
     },
     "7155c531cbfb435399fc425a53560322": {
      "model_module": "@jupyter-widgets/controls",
      "model_module_version": "2.0.0",
      "model_name": "FloatProgressModel",
      "state": {
       "bar_style": "success",
       "layout": "IPY_MODEL_f71259570daa45beacb63eafce4067ba",
       "max": 46,
       "style": "IPY_MODEL_2580a9dda59c4666bd0f6634879c2acc",
       "value": 46
      }
     },
     "77b9eae4f5aa49f8b3d07ab22e39fcdb": {
      "model_module": "@jupyter-widgets/controls",
      "model_module_version": "2.0.0",
      "model_name": "HTMLModel",
      "state": {
       "layout": "IPY_MODEL_9cdd1143135f4e489343b3d0b6af5d6a",
       "style": "IPY_MODEL_7f130eeec2734190a414f8e4f53c7cc9",
       "value": " 46/46 [00:50&lt;00:00,  1.36s/it]"
      }
     },
     "7f130eeec2734190a414f8e4f53c7cc9": {
      "model_module": "@jupyter-widgets/controls",
      "model_module_version": "2.0.0",
      "model_name": "HTMLStyleModel",
      "state": {
       "description_width": "",
       "font_size": null,
       "text_color": null
      }
     },
     "9cdd1143135f4e489343b3d0b6af5d6a": {
      "model_module": "@jupyter-widgets/base",
      "model_module_version": "2.0.0",
      "model_name": "LayoutModel",
      "state": {}
     },
     "af4e21dc76024c47babe6d189a213078": {
      "model_module": "@jupyter-widgets/controls",
      "model_module_version": "2.0.0",
      "model_name": "HTMLStyleModel",
      "state": {
       "description_width": "",
       "font_size": null,
       "text_color": null
      }
     },
     "d6ed09fd7c994bcfa66d2301c571447a": {
      "model_module": "@jupyter-widgets/base",
      "model_module_version": "2.0.0",
      "model_name": "LayoutModel",
      "state": {}
     },
     "f71259570daa45beacb63eafce4067ba": {
      "model_module": "@jupyter-widgets/base",
      "model_module_version": "2.0.0",
      "model_name": "LayoutModel",
      "state": {}
     }
    },
    "version_major": 2,
    "version_minor": 0
   }
  }
 },
 "nbformat": 4,
 "nbformat_minor": 5
}
